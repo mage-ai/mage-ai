{
 "cells": [
  {
   "cell_type": "code",
   "execution_count": null,
   "id": "c7fb0aef",
   "metadata": {},
   "outputs": [],
   "source": [
    "import requests\n",
    "import json\n",
    "\n",
    "# These are some helpful tools we use internally :) \n",
    "# import pyperclip\n",
    "# import curlify\n",
    "\n",
    "from pprint import pprint"
   ]
  },
  {
   "cell_type": "code",
   "execution_count": null,
   "id": "58375a91",
   "metadata": {},
   "outputs": [],
   "source": [
    "# Fetch session\n",
    "\n",
    "API_KEY = \"YOUR_API_KEY\"\n",
    "\n",
    "base_url = 'http://localhost:6789'\n",
    "\n",
    "headers = {\n",
    "    \"Content-Type\": \"application/json\",\n",
    "    \"X-API-KEY\": API_KEY\n",
    "}\n",
    "\n",
    "json_data = {\n",
    "    \"session\": {\n",
    "        \"email\": \"admin@admin.com\",\n",
    "        \"password\": \"admin123\"\n",
    "    }\n",
    "}\n",
    "\n",
    "s = requests.Session()\n",
    "\n",
    "s.headers = headers\n",
    "\n",
    "sessions_url = base_url + \"/api/sessions\"\n",
    "\n",
    "r = s.post(url=sessions_url, json=json_data)\n",
    "\n",
    "pprint(r.content)"
   ]
  },
  {
   "cell_type": "code",
   "execution_count": null,
   "id": "a146fdf8",
   "metadata": {},
   "outputs": [],
   "source": [
    "mage_session = r.json().get('session')"
   ]
  },
  {
   "cell_type": "code",
   "execution_count": null,
   "id": "59336d7e",
   "metadata": {},
   "outputs": [],
   "source": [
    "# Authenticate\n",
    "\n",
    "token = mage_session.get('token')\n",
    "\n",
    "s.headers['Cookie'] = f'oauth_token={token}'"
   ]
  },
  {
   "cell_type": "code",
   "execution_count": null,
   "id": "6e0ba960",
   "metadata": {},
   "outputs": [],
   "source": [
    "# Get pipelines\n",
    "\n",
    "pipelines_url = base_url + '/api/pipelines'\n",
    "\n",
    "r = s.get(pipelines_url)\n",
    "\n",
    "list_pipelines = r.json()\n",
    "pprint(list_pipelines)"
   ]
  }
 ],
 "metadata": {
  "kernelspec": {
   "display_name": "Python 3 (ipykernel)",
   "language": "python",
   "name": "python3"
  },
  "language_info": {
   "codemirror_mode": {
    "name": "ipython",
    "version": 3
   },
   "file_extension": ".py",
   "mimetype": "text/x-python",
   "name": "python",
   "nbconvert_exporter": "python",
   "pygments_lexer": "ipython3",
   "version": "3.11.0"
  }
 },
 "nbformat": 4,
 "nbformat_minor": 5
}
