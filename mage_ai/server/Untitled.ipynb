{
 "cells": [
  {
   "cell_type": "code",
   "execution_count": 2,
   "id": "7da6e8a6",
   "metadata": {},
   "outputs": [],
   "source": [
    "import sys\n",
    "sys.path.append('/Users/dangerous/Code/materia/mage-ai')\n",
    "\n",
    "import mage_ai\n",
    "import pandas as pd"
   ]
  },
  {
   "cell_type": "code",
   "execution_count": null,
   "id": "c29e255f",
   "metadata": {},
   "outputs": [],
   "source": []
  },
  {
   "cell_type": "code",
   "execution_count": null,
   "id": "b383e8ad",
   "metadata": {},
   "outputs": [],
   "source": []
  },
  {
   "cell_type": "code",
   "execution_count": null,
   "id": "2f5a0f1f",
   "metadata": {},
   "outputs": [],
   "source": []
  },
  {
   "cell_type": "code",
   "execution_count": null,
   "id": "8fe8c522",
   "metadata": {},
   "outputs": [],
   "source": [
    "mage_ai.clean(dataframe, pipeline='sales-cleaning-data')\n",
    "\n",
    "\n",
    "\n",
    "model.fit(dataframe)"
   ]
  },
  {
   "cell_type": "code",
   "execution_count": null,
   "id": "55109f2e",
   "metadata": {},
   "outputs": [],
   "source": []
  },
  {
   "cell_type": "code",
   "execution_count": null,
   "id": "dbe0fa41",
   "metadata": {},
   "outputs": [],
   "source": []
  },
  {
   "cell_type": "code",
   "execution_count": null,
   "id": "adfe34dc",
   "metadata": {},
   "outputs": [],
   "source": []
  },
  {
   "cell_type": "code",
   "execution_count": null,
   "id": "25b00a2a",
   "metadata": {},
   "outputs": [],
   "source": []
  },
  {
   "cell_type": "code",
   "execution_count": null,
   "id": "eb49751d",
   "metadata": {},
   "outputs": [],
   "source": []
  },
  {
   "cell_type": "code",
   "execution_count": 3,
   "id": "b56ea4fd",
   "metadata": {},
   "outputs": [],
   "source": [
    "df1 = pd.read_csv('product_purchases.csv')\n",
    "df2 = pd.read_csv('salary-survey.csv')\n",
    "df3 = pd.read_csv('titanic_survival.csv')"
   ]
  },
  {
   "cell_type": "code",
   "execution_count": 9,
   "id": "29e1068b",
   "metadata": {},
   "outputs": [
    {
     "name": "stdout",
     "output_type": "stream",
     "text": [
      "[time] metric: data_cleaner.infer_column_types, value: 17ms, tags: {}\n",
      "[time] metric: data_cleaner.clean_series, value: 13ms, tags: {}\n",
      "[time] metric: statistics.calculate_statistics_overview.time, value: 43ms, tags: {}\n",
      "[time] metric: data_cleaner.calculate_statistics, value: 43ms, tags: {}\n",
      "[time] metric: data_cleaner.calculate_insights, value: 17ms, tags: {}\n",
      "[time] metric: pipeline.evaluate_cleaning_rule, value: 0ms, tags: {'rule': 'CleanColumnNames'}\n",
      "[time] metric: pipeline.evaluate_cleaning_rule, value: 0ms, tags: {'rule': 'RemoveColumnsWithHighEmptyRate'}\n",
      "[time] metric: pipeline.evaluate_cleaning_rule, value: 0ms, tags: {'rule': 'RemoveColumnsWithSingleValue'}\n",
      "[time] metric: pipeline.evaluate_cleaning_rule, value: 15ms, tags: {'rule': 'ReformatValues'}\n",
      "[time] metric: pipeline.evaluate_cleaning_rule, value: 2ms, tags: {'rule': 'ImputeValues'}\n",
      "[time] metric: pipeline.evaluate_cleaning_rule, value: 9ms, tags: {'rule': 'RemoveCollinearColumns'}\n",
      "[time] metric: pipeline.evaluate_cleaning_rule, value: 1ms, tags: {'rule': 'RemoveDuplicateRows'}\n",
      "[time] metric: pipeline.evaluate_cleaning_rule, value: 0ms, tags: {'rule': 'RemoveOutliers'}\n",
      "[time] metric: data_cleaner.create_suggested_actions, value: 28ms, tags: {}\n"
     ]
    },
    {
     "data": {
      "text/plain": [
       "<mage_ai.server.data.models.FeatureSet at 0x16fb916a0>"
      ]
     },
     "execution_count": 9,
     "metadata": {},
     "output_type": "execute_result"
    }
   ],
   "source": [
    "mage_ai.connect_data(df3, name='titanic6')"
   ]
  },
  {
   "cell_type": "code",
   "execution_count": null,
   "id": "eca3d348",
   "metadata": {},
   "outputs": [],
   "source": []
  },
  {
   "cell_type": "code",
   "execution_count": 11,
   "id": "ed983618",
   "metadata": {},
   "outputs": [
    {
     "name": "stdout",
     "output_type": "stream",
     "text": [
      "Flask server is terminated\n"
     ]
    }
   ],
   "source": [
    "mage_ai.kill()\n",
    "# mage_ai.launch()"
   ]
  }
 ],
 "metadata": {
  "kernelspec": {
   "display_name": "Python 3 (ipykernel)",
   "language": "python",
   "name": "python3"
  },
  "language_info": {
   "codemirror_mode": {
    "name": "ipython",
    "version": 3
   },
   "file_extension": ".py",
   "mimetype": "text/x-python",
   "name": "python",
   "nbconvert_exporter": "python",
   "pygments_lexer": "ipython3",
   "version": "3.8.7"
  }
 },
 "nbformat": 4,
 "nbformat_minor": 5
}
