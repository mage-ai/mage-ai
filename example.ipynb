{
 "cells": [
  {
   "cell_type": "markdown",
   "id": "6c4b1153-be69-4550-a9f7-c9d28a88032b",
   "metadata": {},
   "source": [
    "# Load and connect data"
   ]
  },
  {
   "cell_type": "code",
   "execution_count": null,
   "id": "c0073435-1179-4bb3-92e0-9d04937963dc",
   "metadata": {},
   "outputs": [],
   "source": [
    "import mage_ai\n",
    "from mage_ai.sample_datasets import load_dataset\n",
    "\n",
    "\n",
    "df = load_dataset('titanic_survival.csv')\n",
    "mage_ai.connect_data(df, 'titanic survival dataset')"
   ]
  },
  {
   "cell_type": "markdown",
   "id": "189a7c13-3fc8-4958-95ba-cb80e3ff70d9",
   "metadata": {},
   "source": [
    "# Clean data using pipeline created from app"
   ]
  },
  {
   "cell_type": "code",
   "execution_count": null,
   "id": "39b50ed0-39c5-4f11-a429-8f3be5ca0940",
   "metadata": {},
   "outputs": [],
   "source": [
    "mage_ai.clean(df, pipeline_uuid=1)"
   ]
  }
 ],
 "metadata": {
  "kernelspec": {
   "display_name": "Python 3 (ipykernel)",
   "language": "python",
   "name": "python3"
  },
  "language_info": {
   "codemirror_mode": {
    "name": "ipython",
    "version": 3
   },
   "file_extension": ".py",
   "mimetype": "text/x-python",
   "name": "python",
   "nbconvert_exporter": "python",
   "pygments_lexer": "ipython3",
   "version": "3.10.4"
  }
 },
 "nbformat": 4,
 "nbformat_minor": 5
}
